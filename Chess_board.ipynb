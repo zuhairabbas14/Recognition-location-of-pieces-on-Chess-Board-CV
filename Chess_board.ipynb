{
  "nbformat": 4,
  "nbformat_minor": 0,
  "metadata": {
    "colab": {
      "name": "Chess board",
      "provenance": []
    },
    "kernelspec": {
      "name": "python3",
      "display_name": "Python 3"
    }
  },
  "cells": [
    {
      "cell_type": "code",
      "metadata": {
        "id": "JerhdxVkeduv"
      },
      "source": [
        "import io\n",
        "import cv2\n",
        "import numpy as np\n",
        "import time\n",
        "from google.colab.patches import cv2_imshow\n",
        "from skimage import measure\n",
        "from more_itertools import run_length"
      ],
      "execution_count": null,
      "outputs": []
    },
    {
      "cell_type": "code",
      "metadata": {
        "id": "QKu9BRhFd4eH"
      },
      "source": [
        "def short_names(name):\n",
        "  name = name.lower()\n",
        "  if name == 'empty':\n",
        "    return 'em'\n",
        "  else:\n",
        "    new_name = ''\n",
        "    c, n = name.split(' ')\n",
        "    if c == 'white':\n",
        "      new_name += 'w'\n",
        "    elif c == 'black':\n",
        "      new_name += 'b'\n",
        "    if n == 'rook':\n",
        "      new_name += 'r'\n",
        "    if n == 'bishop':\n",
        "      new_name += 'b'\n",
        "    if n == 'queen':\n",
        "      new_name += 'q'\n",
        "    if n == 'king':\n",
        "      new_name += 'k'\n",
        "    if n == 'horse':\n",
        "      new_name += 'h'\n",
        "    if n == 'pawn':\n",
        "      new_name += 'p'\n",
        "  return new_name\n",
        "\n",
        "\n",
        "def convert_cell(value):\n",
        "    if value == 'em':\n",
        "        return None\n",
        "    else:\n",
        "        color, piece = value[0], value[1]\n",
        "        return piece.upper() if color == 'w' else piece.lower()\n",
        "\n",
        "\n",
        "def convert_rank(rank):\n",
        "    return ''.join(\n",
        "        value * count if value else str(count)\n",
        "        for value, count in run_length.encode(map(convert_cell, rank))\n",
        "    )\n",
        "\n",
        "\n",
        "def board_to_fen(board):\n",
        "    return '/'.join(map(convert_rank, board)) + ' w KQkq - 0 1'"
      ],
      "execution_count": null,
      "outputs": []
    },
    {
      "cell_type": "code",
      "metadata": {
        "colab": {
          "base_uri": "https://localhost:8080/",
          "height": 1000
        },
        "id": "m9wi7RKbfrWh",
        "outputId": "9e65b340-54c3-458e-a3f5-8dce3c9f2426"
      },
      "source": [
        "img = cv2.imread(\"chess.png\")\n",
        "threshold = 0.9\n",
        "offset = 45\n",
        "cb = [[None for _ in range(8)] for _ in range(8)]\n",
        "new = [['em' for _ in range(8)] for _ in range(8)]\n",
        "pos_strings, visited = [], []\n",
        "\n",
        "for i in range(8):\n",
        "  for j in range(8):\n",
        "    cb[i][j] = img[offset * i: offset * (i+1), offset * j: offset * (j+1)]\n",
        "\n",
        "for i in range(8):\n",
        "  for j in range(8):\n",
        "    if (i,j) in visited:\n",
        "      continue\n",
        "    to_find = cb[i][j]\n",
        "    cv2_imshow(to_find)\n",
        "    time.sleep(0.2)\n",
        "    print('Please input the name of this piece: ')\n",
        "    name = input()\n",
        "\n",
        "    for r in range(8):\n",
        "      for c in range(8):\n",
        "        comp = cb[r][c]\n",
        "        res = measure.compare_ssim(to_find, comp, multichannel=True)\n",
        "        if res >= threshold:\n",
        "          new[r][c] = short_names(name)\n",
        "          pos_strings.append(name + ' (' + str(r) + ', ' + str(c) + ')')\n",
        "          visited.append((r, c))\n",
        "          print(name + ' (' + str(r) + ', ' + str(c) + ')')"
      ],
      "execution_count": null,
      "outputs": [
        {
          "output_type": "display_data",
          "data": {
            "image/png": "[encoded data removed]",
            "text/plain": [
              "<PIL.Image.Image image mode=RGB size=45x45 at 0x7F8F4FC33C50>"
            ]
          },
          "metadata": {
            "tags": []
          }
        },
        {
          "output_type": "stream",
          "text": [
            "Please input the name of this piece: \n",
            "black rook\n",
            "black rook (0, 0)\n",
            "black rook (0, 5)\n"
          ],
          "name": "stdout"
        },
        {
          "output_type": "stream",
          "text": [
            "/usr/local/lib/python3.6/dist-packages/ipykernel_launcher.py:25: UserWarning:\n",
            "\n",
            "DEPRECATED: skimage.measure.compare_ssim has been moved to skimage.metrics.structural_similarity. It will be removed from skimage.measure in version 0.18.\n",
            "\n"
          ],
          "name": "stderr"
        },
        {
          "output_type": "display_data",
          "data": {
            "image/png": "[encoded data removed]",
            "text/plain": [
              "<PIL.Image.Image image mode=RGB size=45x45 at 0x7F8F5AAED4E0>"
            ]
          },
          "metadata": {
            "tags": []
          }
        },
        {
          "output_type": "stream",
          "text": [
            "Please input the name of this piece: \n",
            "empty\n",
            "empty (0, 1)\n",
            "empty (0, 2)\n",
            "empty (0, 4)\n",
            "empty (0, 7)\n",
            "empty (1, 2)\n",
            "empty (1, 3)\n",
            "empty (2, 0)\n",
            "empty (2, 3)\n",
            "empty (2, 4)\n",
            "empty (2, 7)\n",
            "empty (3, 0)\n",
            "empty (3, 1)\n",
            "empty (3, 3)\n",
            "empty (3, 4)\n",
            "empty (3, 5)\n",
            "empty (3, 7)\n",
            "empty (4, 0)\n",
            "empty (4, 1)\n",
            "empty (4, 2)\n",
            "empty (4, 5)\n",
            "empty (4, 7)\n",
            "empty (5, 0)\n",
            "empty (5, 1)\n",
            "empty (5, 3)\n",
            "empty (5, 4)\n",
            "empty (5, 6)\n",
            "empty (5, 7)\n",
            "empty (6, 2)\n",
            "empty (6, 3)\n",
            "empty (6, 4)\n",
            "empty (7, 0)\n",
            "empty (7, 1)\n",
            "empty (7, 2)\n",
            "empty (7, 6)\n"
          ],
          "name": "stdout"
        },
        {
          "output_type": "display_data",
          "data": {
            "image/png": "[encoded data removed]",
            "text/plain": [
              "<PIL.Image.Image image mode=RGB size=45x45 at 0x7F8F4F1A54A8>"
            ]
          },
          "metadata": {
            "tags": []
          }
        },
        {
          "output_type": "stream",
          "text": [
            "Please input the name of this piece: \n",
            "black queen\n",
            "black queen (0, 3)\n"
          ],
          "name": "stdout"
        },
        {
          "output_type": "display_data",
          "data": {
            "image/png": "[encoded data removed]",
            "text/plain": [
              "<PIL.Image.Image image mode=RGB size=45x45 at 0x7F8F4F680EF0>"
            ]
          },
          "metadata": {
            "tags": []
          }
        },
        {
          "output_type": "stream",
          "text": [
            "Please input the name of this piece: \n",
            "black king\n",
            "black king (0, 6)\n"
          ],
          "name": "stdout"
        },
        {
          "output_type": "display_data",
          "data": {
            "image/png": "[encoded data removed]",
            "text/plain": [
              "<PIL.Image.Image image mode=RGB size=45x45 at 0x7F8F4F680828>"
            ]
          },
          "metadata": {
            "tags": []
          }
        },
        {
          "output_type": "stream",
          "text": [
            "Please input the name of this piece: \n",
            "black pawn\n",
            "black pawn (1, 0)\n",
            "black pawn (1, 1)\n",
            "black pawn (1, 4)\n",
            "black pawn (1, 5)\n",
            "black pawn (1, 7)\n",
            "black pawn (2, 2)\n",
            "black pawn (2, 6)\n"
          ],
          "name": "stdout"
        },
        {
          "output_type": "display_data",
          "data": {
            "image/png": "[encoded data removed]",
            "text/plain": [
              "<PIL.Image.Image image mode=RGB size=45x45 at 0x7F8F4F680C88>"
            ]
          },
          "metadata": {
            "tags": []
          }
        },
        {
          "output_type": "stream",
          "text": [
            "Please input the name of this piece: \n",
            "black bishop\n",
            "black bishop (1, 6)\n",
            "black bishop (4, 6)\n"
          ],
          "name": "stdout"
        },
        {
          "output_type": "display_data",
          "data": {
            "image/png": "[encoded data removed]",
            "text/plain": [
              "<PIL.Image.Image image mode=RGB size=45x45 at 0x7F8F4F680C50>"
            ]
          },
          "metadata": {
            "tags": []
          }
        },
        {
          "output_type": "stream",
          "text": [
            "Please input the name of this piece: \n",
            "black horse\n",
            "black horse (2, 1)\n",
            "black horse (2, 5)\n"
          ],
          "name": "stdout"
        },
        {
          "output_type": "display_data",
          "data": {
            "image/png": "[encoded data removed]",
            "text/plain": [
              "<PIL.Image.Image image mode=RGB size=45x45 at 0x7F8F4FC35CC0>"
            ]
          },
          "metadata": {
            "tags": []
          }
        },
        {
          "output_type": "stream",
          "text": [
            "Please input the name of this piece: \n",
            "white queen\n",
            "white queen (3, 2)\n"
          ],
          "name": "stdout"
        },
        {
          "output_type": "display_data",
          "data": {
            "image/png": "[encoded data removed]",
            "text/plain": [
              "<PIL.Image.Image image mode=RGB size=45x45 at 0x7F8F4FC357F0>"
            ]
          },
          "metadata": {
            "tags": []
          }
        },
        {
          "output_type": "stream",
          "text": [
            "Please input the name of this piece: \n",
            "white bishop\n",
            "white bishop (3, 6)\n",
            "white bishop (7, 5)\n"
          ],
          "name": "stdout"
        },
        {
          "output_type": "display_data",
          "data": {
            "image/png": "[encoded data removed]",
            "text/plain": [
              "<PIL.Image.Image image mode=RGB size=45x45 at 0x7F8F5AAEDF98>"
            ]
          },
          "metadata": {
            "tags": []
          }
        },
        {
          "output_type": "stream",
          "text": [
            "Please input the name of this piece: \n",
            "white pawn\n",
            "white pawn (4, 3)\n",
            "white pawn (4, 4)\n",
            "white pawn (6, 0)\n",
            "white pawn (6, 1)\n",
            "white pawn (6, 5)\n",
            "white pawn (6, 6)\n",
            "white pawn (6, 7)\n"
          ],
          "name": "stdout"
        },
        {
          "output_type": "display_data",
          "data": {
            "image/png": "[encoded data removed]",
            "text/plain": [
              "<PIL.Image.Image image mode=RGB size=45x45 at 0x7F8F4FC33F60>"
            ]
          },
          "metadata": {
            "tags": []
          }
        },
        {
          "output_type": "stream",
          "text": [
            "Please input the name of this piece: \n",
            "white horse\n",
            "white horse (5, 2)\n",
            "white horse (5, 5)\n"
          ],
          "name": "stdout"
        },
        {
          "output_type": "display_data",
          "data": {
            "image/png": "[encoded data removed]",
            "text/plain": [
              "<PIL.Image.Image image mode=RGB size=45x45 at 0x7F8F5AAEDA58>"
            ]
          },
          "metadata": {
            "tags": []
          }
        },
        {
          "output_type": "stream",
          "text": [
            "Please input the name of this piece: \n",
            "white rook\n",
            "white rook (7, 3)\n",
            "white rook (7, 7)\n"
          ],
          "name": "stdout"
        },
        {
          "output_type": "display_data",
          "data": {
            "image/png": "[encoded data removed]",
            "text/plain": [
              "<PIL.Image.Image image mode=RGB size=45x45 at 0x7F8F4FC33CF8>"
            ]
          },
          "metadata": {
            "tags": []
          }
        },
        {
          "output_type": "stream",
          "text": [
            "Please input the name of this piece: \n",
            "white king\n",
            "white king (7, 4)\n"
          ],
          "name": "stdout"
        }
      ]
    },
    {
      "cell_type": "code",
      "metadata": {
        "colab": {
          "base_uri": "https://localhost:8080/"
        },
        "id": "6BZ9T72evV48",
        "outputId": "8041e274-63a5-4493-cec1-c46a67a18192"
      },
      "source": [
        "print('Positions of pieces:\\n')\n",
        "for p in pos_strings:\n",
        "  if 'empty' in p:\n",
        "    continue\n",
        "  print('- ' + p)"
      ],
      "execution_count": null,
      "outputs": [
        {
          "output_type": "stream",
          "text": [
            "Positions of pieces:\n",
            "\n",
            "- black rook (0, 0)\n",
            "- black rook (0, 5)\n",
            "- black queen (0, 3)\n",
            "- black king (0, 6)\n",
            "- black pawn (1, 0)\n",
            "- black pawn (1, 1)\n",
            "- black pawn (1, 4)\n",
            "- black pawn (1, 5)\n",
            "- black pawn (1, 7)\n",
            "- black pawn (2, 2)\n",
            "- black pawn (2, 6)\n",
            "- black bishop (1, 6)\n",
            "- black bishop (4, 6)\n",
            "- black horse (2, 1)\n",
            "- black horse (2, 5)\n",
            "- white queen (3, 2)\n",
            "- white bishop (3, 6)\n",
            "- white bishop (7, 5)\n",
            "- white pawn (4, 3)\n",
            "- white pawn (4, 4)\n",
            "- white pawn (6, 0)\n",
            "- white pawn (6, 1)\n",
            "- white pawn (6, 5)\n",
            "- white pawn (6, 6)\n",
            "- white pawn (6, 7)\n",
            "- white horse (5, 2)\n",
            "- white horse (5, 5)\n",
            "- white rook (7, 3)\n",
            "- white rook (7, 7)\n",
            "- white king (7, 4)\n"
          ],
          "name": "stdout"
        }
      ]
    },
    {
      "cell_type": "code",
      "metadata": {
        "colab": {
          "base_uri": "https://localhost:8080/"
        },
        "id": "KsDcohe_r2Da",
        "outputId": "4afcdba0-589f-433b-e57e-a9f0ceec1866"
      },
      "source": [
        "print(new)"
      ],
      "execution_count": null,
      "outputs": [
        {
          "output_type": "stream",
          "text": [
            "[['br', 'em', 'em', 'bq', 'em', 'br', 'bk', 'em'], ['bp', 'bp', 'em', 'em', 'bp', 'bp', 'bb', 'bp'], ['em', 'bh', 'bp', 'em', 'em', 'bh', 'bp', 'em'], ['em', 'em', 'wq', 'em', 'em', 'em', 'wb', 'em'], ['em', 'em', 'em', 'wp', 'wp', 'em', 'bb', 'em'], ['em', 'em', 'wh', 'em', 'em', 'wh', 'em', 'em'], ['wp', 'wp', 'em', 'em', 'em', 'wp', 'wp', 'wp'], ['em', 'em', 'em', 'wr', 'wk', 'wb', 'em', 'wr']]\n"
          ],
          "name": "stdout"
        }
      ]
    },
    {
      "cell_type": "code",
      "metadata": {
        "colab": {
          "base_uri": "https://localhost:8080/",
          "height": 35
        },
        "id": "J4eYxr5y3HBA",
        "outputId": "32023af8-29da-45d6-ec99-20aee00bebc4"
      },
      "source": [
        "board_to_fen(new)"
      ],
      "execution_count": null,
      "outputs": [
        {
          "output_type": "execute_result",
          "data": {
            "application/vnd.google.colaboratory.intrinsic+json": {
              "type": "string"
            },
            "text/plain": [
              "'r2q1rk1/pp2ppbp/1hp2hp1/2Q3B1/3PP1b1/2H2H2/PP3PPP/3RKB1R w KQkq - 0 1'"
            ]
          },
          "metadata": {
            "tags": []
          },
          "execution_count": 77
        }
      ]
    }
  ]
}